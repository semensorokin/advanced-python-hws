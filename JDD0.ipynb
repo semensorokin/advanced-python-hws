{
 "cells": [
  {
   "cell_type": "code",
   "execution_count": 5,
   "metadata": {},
   "outputs": [],
   "source": [
    "#!/usr/bin/env python\n",
    "# -*- coding: utf-8 -*-\n",
    "import requests\n",
    "from bs4 import BeautifulSoup \n",
    "import re \n",
    "import time\n",
    "import dateparser\n",
    "#Le JDD : Plutôt à droite\n",
    "\n",
    "class JDD:\n",
    "\n",
    "    def __init__(self):\n",
    "        self.articals = {}\n",
    "        self.dates = []\n",
    "        \n",
    "    def download_arc_names(self, categorie = 'all', quantity = 50):\n",
    "        n = int(round(quantity/50+0.5))\n",
    "        #выгружаем страницы\n",
    "        categories = 'Politique, Societe, International, Economie, JDD-Paris, Culture, Sport, Sondages'.split(', ')\n",
    "\n",
    "        if categorie=='all':\n",
    "            pages=[]\n",
    "            for cat in categories:\n",
    "                page_ = [requests.get(\"https://www.lejdd.fr/\"+cat+'/'+str(page_number)) for page_number in range(1,n)]\n",
    "                pages.extend(page_)\n",
    "                print(pages)\n",
    "        else:\n",
    "            pages = [requests.get(\"https://www.lejdd.fr/\"+categorie+'/'+str(page_number)) for page_number in range(1,n)]\n",
    "            \n",
    "        # список названий статей и ссылок\n",
    "        titles=[]\n",
    "        for page in pages:\n",
    "            one_page_ts=BeautifulSoup(page.text, \"html5lib\").find_all('h3')\n",
    "            titles.extend(one_page_ts)\n",
    "\n",
    "        links=[\"https://www.lejdd.fr\"+l(\"a\")[0][\"href\"] for l in titles]\n",
    "        n_l=dict(zip([i.text for i in titles], links))\n",
    "        return n_l\n",
    "    \n",
    "    def get_art(self, categorie = 'all', quantity = 50):\n",
    "        # время печати и тексты статей \n",
    "        texts = []\n",
    "        n_l = self.download_arc_names(categorie, quantity)\n",
    "        for name, i in list(n_l.items()):\n",
    "            resp = requests.get(i)\n",
    "            #time.sleep(0.3)\n",
    "            bs = BeautifulSoup(resp.text, 'html5lib')\n",
    "\n",
    "            t = BeautifulSoup(resp.text, \"html5lib\").find_all('time')[0]\n",
    "            t = ' '.join(t.get_text().split(',')[:2])\n",
    "            time = dateparser.parse(t)\n",
    "\n",
    "            text = BeautifulSoup(\" \".join([p.text for p in bs.find_all(\"p\")]), \"html5lib\").get_text().replace('\\xa0', ' ')\n",
    "        \n",
    "            self.articals[time] = (name, text)\n",
    "            self.dates.append(time)    \n",
    "        self.dates.sort()\n",
    "        print('Corpus of {} articals is done. First article published {}, the last one  - {}'.format(len(self.dates), min(self.dates),max(self.dates)))\n",
    "        return self.articals\n",
    "            \n",
    "    def choose_time_per(self, l_b, r_b):\n",
    "        l_b = dateparser.parse(l_b)\n",
    "        r_b = dateparser.parse(r_b)\n",
    "        for date in self.dates:\n",
    "            if date >= l_b and date <= r_b :\n",
    "                self.subcorpus[date] = (self.articals[date][0], self.articals[date][1])\n",
    "        return self.subcorpus\n",
    "    \n",
    "    def clear_subcorpus(self):\n",
    "        self.subcorpus= []\n",
    "    \n",
    "    def write_coprus(self, corpus):\n",
    "        \n",
    "        f = open('all_articals.txt', 'w', encoding='utf-8')\n",
    "        for date,(name, text) in corpus.items():\n",
    "            f.write(str(date)+'\\n')\n",
    "            f.write(name+'\\n')\n",
    "            f.write(text+'\\n')\n",
    "        f.close()\n",
    "        print('Corpus({} articls) is written in file all_articals.txt'.format(len(list(corpus.items()))))\n"
   ]
  },
  {
   "cell_type": "code",
   "execution_count": 6,
   "metadata": {},
   "outputs": [
    {
     "name": "stdout",
     "output_type": "stream",
     "text": [
      "Corpus of 50 articals is done. First article published 2018-10-08 08:00:00, the last one  - 2018-10-14 17:57:00\n",
      "Corpus(49 articls) is written in file all_articals.txt\n"
     ]
    }
   ],
   "source": [
    "jdd = JDD()\n",
    "jdd.get_art(categorie='Politique', quantity=50)\n",
    "jdd.write_coprus(jdd.articals)"
   ]
  },
  {
   "cell_type": "code",
   "execution_count": null,
   "metadata": {},
   "outputs": [],
   "source": []
  }
 ],
 "metadata": {
  "kernelspec": {
   "display_name": "Python 3",
   "language": "python",
   "name": "python3"
  },
  "language_info": {
   "codemirror_mode": {
    "name": "ipython",
    "version": 3
   },
   "file_extension": ".py",
   "mimetype": "text/x-python",
   "name": "python",
   "nbconvert_exporter": "python",
   "pygments_lexer": "ipython3",
   "version": "3.6.4"
  }
 },
 "nbformat": 4,
 "nbformat_minor": 2
}
